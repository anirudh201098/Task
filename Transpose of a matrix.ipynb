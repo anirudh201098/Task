{
 "cells": [
  {
   "cell_type": "code",
   "execution_count": 2,
   "metadata": {},
   "outputs": [],
   "source": [
    "mat=[[1,2,3],[1,2,5],[13,6,7]]"
   ]
  },
  {
   "cell_type": "code",
   "execution_count": 7,
   "metadata": {},
   "outputs": [
    {
     "name": "stdout",
     "output_type": "stream",
     "text": [
      "[1, 2, 3]\n",
      "[1, 2, 5]\n",
      "[13, 6, 7]\n",
      "\n",
      "Tranpose\n",
      "[1, 1, 13]\n",
      "[2, 2, 6]\n",
      "[3, 5, 7]\n"
     ]
    }
   ],
   "source": [
    "for row in mat : \n",
    "    print(row) \n",
    "rez = [[mat[j][i] for j in range(len(mat))] for i in range(len(mat[0]))] \n",
    "print(\"\\nTranpose\") \n",
    "for row in rez: \n",
    "    print(row) "
   ]
  },
  {
   "cell_type": "code",
   "execution_count": null,
   "metadata": {},
   "outputs": [],
   "source": []
  }
 ],
 "metadata": {
  "kernelspec": {
   "display_name": "Python 3.7 (tensorflow)",
   "language": "python",
   "name": "tensorflow"
  },
  "language_info": {
   "codemirror_mode": {
    "name": "ipython",
    "version": 3
   },
   "file_extension": ".py",
   "mimetype": "text/x-python",
   "name": "python",
   "nbconvert_exporter": "python",
   "pygments_lexer": "ipython3",
   "version": "3.7.7"
  }
 },
 "nbformat": 4,
 "nbformat_minor": 4
}
